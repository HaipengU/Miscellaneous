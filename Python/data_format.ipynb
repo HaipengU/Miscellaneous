{
 "cells": [
  {
   "cell_type": "markdown",
   "metadata": {},
   "source": [
    "## read a txt file into a dictionary"
   ]
  },
  {
   "cell_type": "code",
   "execution_count": 2,
   "metadata": {},
   "outputs": [
    {
     "name": "stdout",
     "output_type": "stream",
     "text": [
      "{'student1': '54', 'student2': '55', 'student3': '56', 'student4': '84', 'student5': '3', 'student6': '38', 'student7': '55', 'student8': '89', 'student9': '31', 'student10': '26', 'student11': '14', 'student12': '86', 'student13': '40', 'student14': '16', 'student15': '97', 'student16': '100', 'student17': '88', 'student18': '81', 'student19': '2', 'student20': '39', 'student21': '8', 'student22': '74', 'student23': '18', 'student24': '13', 'student25': '45', 'student26': '25', 'student27': '49', 'student28': '90', 'student29': '83', 'student30': '31', 'student31': '32', 'student32': '86', 'student33': '98', 'student34': '71', 'student35': '80', 'student36': '94', 'student37': '72', 'student38': '44', 'student39': '53', 'student40': '50', 'student41': '86', 'student42': '37', 'student43': '34', 'student44': '97', 'student45': '41', 'student46': '72', 'student47': '84', 'student48': '24', 'student49': '37', 'student50': '40', 'student51': '15', 'student52': '6', 'student53': '29', 'student54': '88', 'student55': '83', 'student56': '74', 'student57': '16', 'student58': '62', 'student59': '79', 'student60': '47', 'student61': '70', 'student62': '30', 'student63': '69', 'student64': '27', 'student65': '73', 'student66': '74', 'student67': '80', 'student68': '74', 'student69': '74', 'student70': '61', 'student71': '82', 'student72': '27', 'student73': '48', 'student74': '82', 'student75': '65', 'student76': '22', 'student77': '82', 'student78': '78', 'student79': '56', 'student80': '18', 'student81': '70', 'student82': '6', 'student83': '72', 'student84': '69', 'student85': '27', 'student86': '10', 'student87': '24', 'student88': '3', 'student89': '16', 'student90': '30', 'student91': '81', 'student92': '96', 'student93': '9', 'student94': '92', 'student95': '60', 'student96': '77', 'student97': '44', 'student98': '99', 'student99': '68', 'student100': '54'}\n",
      "<class 'dict'>\n"
     ]
    },
    {
     "data": {
      "text/plain": [
       "'54'"
      ]
     },
     "execution_count": 2,
     "metadata": {},
     "output_type": "execute_result"
    }
   ],
   "source": [
    "import os # python module to check working directory\n",
    "os.getcwd()  \n",
    "    \n",
    "# you do not need above code if your two txt files are in the same folder as this script\n",
    "# imput file: f1.txt; be careful with the indent of each line! \n",
    "f1_dic = {} # create empty dictionary to save the text in f1.txt\n",
    "with open(\"f1.txt\") as f: # use 'open' function to open the f1.txt and named it as f variable\n",
    "    for line in f: # each row/line in f1.txt file; e.g., student1 54\n",
    "        (key, val) = line.split() # split each line into key and val; note your key and value in f1.txt is space separated. \n",
    "        f1_dic[key] = val # fill in key and its according vlaue into f1_dic \n",
    "print(f1_dic) # print the results\n",
    "\n",
    "print(type(f1_dic)) # class is dict\n",
    "f1_dic['student1'] # use key to access its acccording value"
   ]
  },
  {
   "cell_type": "markdown",
   "metadata": {},
   "source": [
    "## save a txt file as fasta format"
   ]
  },
  {
   "cell_type": "code",
   "execution_count": 3,
   "metadata": {},
   "outputs": [],
   "source": [
    "with open('output.txt', 'r') as f: # open file output.txt and named it as f\n",
    "    with open('output.fasta', 'w') as out: # create a file of output.fasta and named it as out \n",
    "        for line in f: # each line in output.txt \n",
    "            name, sequence = line.split() # split each line into name and sequence; e.g.,dnasequence1  GTTCTCCGTTACGGGATAACT\n",
    "            out.write('>' + str(name) + '\\n' + str(sequence) + '\\n') # write output into out (out.fasta)\n",
    "# after running the above code, you will find a file of output.fasta in your current directory. "
   ]
  }
 ],
 "metadata": {
  "kernelspec": {
   "display_name": "Python 3",
   "language": "python",
   "name": "python3"
  },
  "language_info": {
   "codemirror_mode": {
    "name": "ipython",
    "version": 3
   },
   "file_extension": ".py",
   "mimetype": "text/x-python",
   "name": "python",
   "nbconvert_exporter": "python",
   "pygments_lexer": "ipython3",
   "version": "3.7.4"
  }
 },
 "nbformat": 4,
 "nbformat_minor": 2
}
